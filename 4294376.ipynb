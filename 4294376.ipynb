{
 "cells": [
  {
   "cell_type": "markdown",
   "metadata": {
    "collapsed": false
   },
   "source": [
    "## 赛事介绍\n",
    "实时对战游戏是人工智能研究领域的一个热点。由于游戏复杂性、部分可观察和动态实时变化战局等游戏特点使得研究变得比较困难。我们可以在选择英雄阶段预测胜负概率，也可以在比赛期间根据比赛实时数据进行建模。那么我们英雄联盟对局进行期间，能知道自己的胜率吗？\n",
    "\n",
    "![](https://ai-studio-static-online.cdn.bcebos.com/9739d3ca3cef4e32989a541af450a9556e91bf89a4e946e0a856cc2424321638)\n",
    "\n",
    "\n",
    "## 赛事任务\n",
    "比赛数据使用了英雄联盟玩家的实时游戏数据，记录下用户在游戏中对局数据（如击杀数、住物理伤害）。希望参赛选手能从数据集中挖掘出数据的规律，并预测玩家在本局游戏中的输赢情况。\n",
    "\n",
    "赛题训练集案例如下：\n",
    "- 训练集18万数据；\n",
    "- 测试集2万条数据；\n",
    "\n",
    "```plain\n",
    "import pandas as pd\n",
    "import numpy as np\n",
    "\n",
    "train = pd.read_csv('train.csv.zip')\n",
    "```\n",
    "\n",
    "对于数据集中每一行为一个玩家的游戏数据，数据字段如下所示：\n",
    "\n",
    "* id：玩家记录id\n",
    "* win：是否胜利，标签变量\n",
    "* kills：击杀次数\n",
    "* deaths：死亡次数\n",
    "* assists：助攻次数\n",
    "* largestkillingspree：最大 killing spree（游戏术语，意味大杀特杀。当你连续杀死三个对方英雄而中途没有死亡时）\n",
    "* largestmultikill：最大mult ikill（游戏术语，短时间内多重击杀）\n",
    "* longesttimespentliving：最长存活时间\n",
    "* doublekills：doublekills次数\n",
    "* triplekills：doublekills次数\n",
    "* quadrakills：quadrakills次数\n",
    "* pentakills：pentakills次数\n",
    "* totdmgdealt：总伤害\n",
    "* magicdmgdealt：魔法伤害\n",
    "* physicaldmgdealt：物理伤害\n",
    "* truedmgdealt：真实伤害\n",
    "* largestcrit：最大暴击伤害\n",
    "* totdmgtochamp：对对方玩家的伤害\n",
    "* magicdmgtochamp：对对方玩家的魔法伤害\n",
    "* physdmgtochamp：对对方玩家的物理伤害\n",
    "* truedmgtochamp：对对方玩家的真实伤害\n",
    "* totheal：治疗量\n",
    "* totunitshealed：痊愈的总单位\n",
    "* dmgtoturrets：对炮塔的伤害\n",
    "* timecc：法控时间\n",
    "* totdmgtaken：承受的伤害\n",
    "* magicdmgtaken：承受的魔法伤害\n",
    "* physdmgtaken：承受的物理伤害\n",
    "* truedmgtaken：承受的真实伤害\n",
    "* wardsplaced：侦查守卫放置次数\n",
    "* wardskilled：侦查守卫摧毁次数\n",
    "* firstblood：是否为firstblood\n",
    "\n",
    "测试集中label字段win为空，需要选手预测。\n",
    "\n",
    "##  评审规则\n",
    "\n",
    "1. 数据说明\n",
    "\n",
    "选手需要提交测试集队伍排名预测，具体的提交格式如下：\n",
    "\n",
    "```plain\n",
    "win\n",
    "0\n",
    "1\n",
    "1\n",
    "0\n",
    "```\n",
    "\n",
    " 2. 评估指标\n",
    "\n",
    "本次竞赛的使用准确率进行评分，数值越高精度越高，评估代码参考：\n",
    "\n",
    "```\n",
    "from sklearn.metrics import accuracy_score\n",
    "y_pred = [0, 2, 1, 3]\n",
    "y_true = [0, 1, 2, 3]\n",
    "accuracy_score(y_true, y_pred)\n",
    "```"
   ]
  },
  {
   "cell_type": "code",
   "execution_count": 2,
   "metadata": {
    "collapsed": false
   },
   "outputs": [
    {
     "name": "stderr",
     "output_type": "stream",
     "text": [
      "/opt/conda/envs/python35-paddle120-env/lib/python3.7/site-packages/matplotlib/__init__.py:107: DeprecationWarning: Using or importing the ABCs from 'collections' instead of from 'collections.abc' is deprecated, and in 3.8 it will stop working\n",
      "  from collections import MutableMapping\n",
      "/opt/conda/envs/python35-paddle120-env/lib/python3.7/site-packages/matplotlib/rcsetup.py:20: DeprecationWarning: Using or importing the ABCs from 'collections' instead of from 'collections.abc' is deprecated, and in 3.8 it will stop working\n",
      "  from collections import Iterable, Mapping\n",
      "/opt/conda/envs/python35-paddle120-env/lib/python3.7/site-packages/matplotlib/colors.py:53: DeprecationWarning: Using or importing the ABCs from 'collections' instead of from 'collections.abc' is deprecated, and in 3.8 it will stop working\n",
      "  from collections import Sized\n"
     ]
    },
    {
     "name": "stdout",
     "output_type": "stream",
     "text": [
      "Populating the interactive namespace from numpy and matplotlib\n"
     ]
    }
   ],
   "source": [
    "# 引入相关库\n",
    "import pandas as pd\n",
    "import paddle\n",
    "import numpy as np\n",
    "%pylab inline\n",
    "import seaborn as sns\n",
    "\n",
    "# 读取训练集、测试集\n",
    "train_df = pd.read_csv('data/data137276/train.csv.zip')\n",
    "test_df = pd.read_csv('data/data137276/test.csv.zip')\n",
    "\n",
    "# 删除 id、timecc 数据\n",
    "train_df = train_df.drop(['id', 'timecc'], axis=1)\n",
    "test_df = test_df.drop(['id', 'timecc'], axis=1)"
   ]
  },
  {
   "cell_type": "code",
   "execution_count": 3,
   "metadata": {
    "collapsed": false
   },
   "outputs": [],
   "source": [
    "# 删除 magicdmgtochamp、physdmgtochamp 等数据\r\n",
    "train_df = train_df.drop(['magicdmgtochamp', 'physdmgtochamp', 'truedmgtochamp', 'magicdmgtaken', 'physdmgtaken', 'truedmgtaken', 'totunitshealed'], axis=1)\r\n",
    "test_df = test_df.drop(['magicdmgtochamp', 'physdmgtochamp', 'truedmgtochamp', 'magicdmgtaken', 'physdmgtaken', 'truedmgtaken', 'totunitshealed'], axis=1)"
   ]
  },
  {
   "cell_type": "markdown",
   "metadata": {
    "collapsed": true
   },
   "source": [
    "## 数据分析"
   ]
  },
  {
   "cell_type": "code",
   "execution_count": 4,
   "metadata": {
    "collapsed": false
   },
   "outputs": [
    {
     "data": {
      "text/plain": [
       "win                       0.0\n",
       "kills                     0.0\n",
       "deaths                    0.0\n",
       "assists                   0.0\n",
       "largestkillingspree       0.0\n",
       "largestmultikill          0.0\n",
       "longesttimespentliving    0.0\n",
       "doublekills               0.0\n",
       "triplekills               0.0\n",
       "quadrakills               0.0\n",
       "pentakills                0.0\n",
       "totdmgdealt               0.0\n",
       "magicdmgdealt             0.0\n",
       "physicaldmgdealt          0.0\n",
       "truedmgdealt              0.0\n",
       "largestcrit               0.0\n",
       "totdmgtochamp             0.0\n",
       "totheal                   0.0\n",
       "dmgtoturrets              0.0\n",
       "totdmgtaken               0.0\n",
       "wardsplaced               0.0\n",
       "wardskilled               0.0\n",
       "firstblood                0.0\n",
       "dtype: float64"
      ]
     },
     "execution_count": 4,
     "metadata": {},
     "output_type": "execute_result"
    }
   ],
   "source": [
    "# 计算缺省值\r\n",
    "train_df.isnull().mean(0)"
   ]
  },
  {
   "cell_type": "code",
   "execution_count": 5,
   "metadata": {
    "collapsed": false
   },
   "outputs": [
    {
     "name": "stderr",
     "output_type": "stream",
     "text": [
      "/opt/conda/envs/python35-paddle120-env/lib/python3.7/site-packages/matplotlib/cbook/__init__.py:2349: DeprecationWarning: Using or importing the ABCs from 'collections' instead of from 'collections.abc' is deprecated, and in 3.8 it will stop working\n",
      "  if isinstance(obj, collections.Iterator):\n",
      "/opt/conda/envs/python35-paddle120-env/lib/python3.7/site-packages/matplotlib/cbook/__init__.py:2366: DeprecationWarning: Using or importing the ABCs from 'collections' instead of from 'collections.abc' is deprecated, and in 3.8 it will stop working\n",
      "  return list(data) if isinstance(data, collections.MappingView) else data\n"
     ]
    },
    {
     "data": {
      "text/plain": [
       "<matplotlib.axes._subplots.AxesSubplot at 0x7f35441c49d0>"
      ]
     },
     "execution_count": 5,
     "metadata": {},
     "output_type": "execute_result"
    },
    {
     "data": {
      "image/png": "[encoded data removed]",
      "text/plain": [
       "<Figure size 432x288 with 1 Axes>"
      ]
     },
     "metadata": {},
     "output_type": "display_data"
    }
   ],
   "source": [
    "# win 分布\r\n",
    "train_df['win'].value_counts().plot(kind='bar')"
   ]
  },
  {
   "cell_type": "code",
   "execution_count": 6,
   "metadata": {
    "collapsed": false
   },
   "outputs": [
    {
     "name": "stderr",
     "output_type": "stream",
     "text": [
      "/opt/conda/envs/python35-paddle120-env/lib/python3.7/site-packages/seaborn/distributions.py:179: DeprecationWarning: `np.float` is a deprecated alias for the builtin `float`. To silence this warning, use `float` by itself. Doing this will not modify any behavior and is safe. If you specifically wanted the numpy scalar type, use `np.float64` here.\n",
      "Deprecated in NumPy 1.20; for more details and guidance: https://numpy.org/devdocs/release/1.20.0-notes.html#deprecations\n",
      "  a = np.asarray(a, np.float)\n"
     ]
    },
    {
     "data": {
      "text/plain": [
       "<matplotlib.axes._subplots.AxesSubplot at 0x7f35440e5d10>"
      ]
     },
     "execution_count": 6,
     "metadata": {},
     "output_type": "execute_result"
    },
    {
     "data": {
      "image/png": "[encoded data removed]",
      "text/plain": [
       "<Figure size 432x288 with 1 Axes>"
      ]
     },
     "metadata": {},
     "output_type": "display_data"
    }
   ],
   "source": [
    "# kills 分布\r\n",
    "sns.distplot(train_df['kills'])"
   ]
  },
  {
   "cell_type": "code",
   "execution_count": 7,
   "metadata": {
    "collapsed": false
   },
   "outputs": [
    {
     "data": {
      "text/plain": [
       "<matplotlib.axes._subplots.AxesSubplot at 0x7f3543fcf090>"
      ]
     },
     "execution_count": 7,
     "metadata": {},
     "output_type": "execute_result"
    },
    {
     "data": {
      "image/png": "[encoded data removed]",
      "text/plain": [
       "<Figure size 432x288 with 1 Axes>"
      ]
     },
     "metadata": {},
     "output_type": "display_data"
    }
   ],
   "source": [
    "# deaths 分布\r\n",
    "sns.distplot(train_df['deaths'])"
   ]
  },
  {
   "cell_type": "code",
   "execution_count": 8,
   "metadata": {
    "collapsed": false
   },
   "outputs": [
    {
     "name": "stderr",
     "output_type": "stream",
     "text": [
      "/opt/conda/envs/python35-paddle120-env/lib/python3.7/site-packages/seaborn/categorical.py:340: DeprecationWarning: `np.float` is a deprecated alias for the builtin `float`. To silence this warning, use `float` by itself. Doing this will not modify any behavior and is safe. If you specifically wanted the numpy scalar type, use `np.float64` here.\n",
      "Deprecated in NumPy 1.20; for more details and guidance: https://numpy.org/devdocs/release/1.20.0-notes.html#deprecations\n",
      "  np.asarray(s, dtype=np.float)\n",
      "/opt/conda/envs/python35-paddle120-env/lib/python3.7/site-packages/seaborn/utils.py:538: DeprecationWarning: `np.float` is a deprecated alias for the builtin `float`. To silence this warning, use `float` by itself. Doing this will not modify any behavior and is safe. If you specifically wanted the numpy scalar type, use `np.float64` here.\n",
      "Deprecated in NumPy 1.20; for more details and guidance: https://numpy.org/devdocs/release/1.20.0-notes.html#deprecations\n",
      "  np.asarray(values).astype(np.float)\n"
     ]
    },
    {
     "data": {
      "text/plain": [
       "<matplotlib.axes._subplots.AxesSubplot at 0x7f3543e37b50>"
      ]
     },
     "execution_count": 8,
     "metadata": {},
     "output_type": "execute_result"
    },
    {
     "data": {
      "image/png": "[encoded data removed]",
      "text/plain": [
       "<Figure size 432x288 with 1 Axes>"
      ]
     },
     "metadata": {},
     "output_type": "display_data"
    }
   ],
   "source": [
    "# kills & win 箱形图\r\n",
    "sns.boxplot(y='kills', x='win', data=train_df)"
   ]
  },
  {
   "cell_type": "code",
   "execution_count": 13,
   "metadata": {
    "collapsed": false
   },
   "outputs": [
    {
     "name": "stderr",
     "output_type": "stream",
     "text": [
      "/opt/conda/envs/python35-paddle120-env/lib/python3.7/site-packages/seaborn/categorical.py:340: DeprecationWarning: `np.float` is a deprecated alias for the builtin `float`. To silence this warning, use `float` by itself. Doing this will not modify any behavior and is safe. If you specifically wanted the numpy scalar type, use `np.float64` here.\n",
      "Deprecated in NumPy 1.20; for more details and guidance: https://numpy.org/devdocs/release/1.20.0-notes.html#deprecations\n",
      "  np.asarray(s, dtype=np.float)\n",
      "/opt/conda/envs/python35-paddle120-env/lib/python3.7/site-packages/seaborn/utils.py:538: DeprecationWarning: `np.float` is a deprecated alias for the builtin `float`. To silence this warning, use `float` by itself. Doing this will not modify any behavior and is safe. If you specifically wanted the numpy scalar type, use `np.float64` here.\n",
      "Deprecated in NumPy 1.20; for more details and guidance: https://numpy.org/devdocs/release/1.20.0-notes.html#deprecations\n",
      "  np.asarray(values).astype(np.float)\n"
     ]
    },
    {
     "data": {
      "text/plain": [
       "<matplotlib.axes._subplots.AxesSubplot at 0x7f3543b59550>"
      ]
     },
     "execution_count": 13,
     "metadata": {},
     "output_type": "execute_result"
    },
    {
     "data": {
      "image/png": "[encoded data removed]",
      "text/plain": [
       "<Figure size 432x288 with 1 Axes>"
      ]
     },
     "metadata": {},
     "output_type": "display_data"
    }
   ],
   "source": [
    "# wardsplaced & win 箱形图\r\n",
    "sns.boxplot(y='wardsplaced', x='win', data=train_df)"
   ]
  },
  {
   "cell_type": "code",
   "execution_count": 12,
   "metadata": {
    "collapsed": false
   },
   "outputs": [
    {
     "name": "stderr",
     "output_type": "stream",
     "text": [
      "/opt/conda/envs/python35-paddle120-env/lib/python3.7/site-packages/seaborn/categorical.py:340: DeprecationWarning: `np.float` is a deprecated alias for the builtin `float`. To silence this warning, use `float` by itself. Doing this will not modify any behavior and is safe. If you specifically wanted the numpy scalar type, use `np.float64` here.\n",
      "Deprecated in NumPy 1.20; for more details and guidance: https://numpy.org/devdocs/release/1.20.0-notes.html#deprecations\n",
      "  np.asarray(s, dtype=np.float)\n",
      "/opt/conda/envs/python35-paddle120-env/lib/python3.7/site-packages/seaborn/utils.py:538: DeprecationWarning: `np.float` is a deprecated alias for the builtin `float`. To silence this warning, use `float` by itself. Doing this will not modify any behavior and is safe. If you specifically wanted the numpy scalar type, use `np.float64` here.\n",
      "Deprecated in NumPy 1.20; for more details and guidance: https://numpy.org/devdocs/release/1.20.0-notes.html#deprecations\n",
      "  np.asarray(values).astype(np.float)\n"
     ]
    },
    {
     "data": {
      "text/plain": [
       "<matplotlib.axes._subplots.AxesSubplot at 0x7f3543bd5450>"
      ]
     },
     "execution_count": 12,
     "metadata": {},
     "output_type": "execute_result"
    },
    {
     "data": {
      "image/png": "[encoded data removed]",
      "text/plain": [
       "<Figure size 432x288 with 1 Axes>"
      ]
     },
     "metadata": {},
     "output_type": "display_data"
    }
   ],
   "source": [
    "# wardskills & win 箱形图\r\n",
    "sns.boxplot(y='wardskilled', x='win', data=train_df)"
   ]
  },
  {
   "cell_type": "code",
   "execution_count": 18,
   "metadata": {
    "collapsed": false
   },
   "outputs": [
    {
     "data": {
      "text/plain": [
       "Text(0,0.5,'kills/deaths')"
      ]
     },
     "execution_count": 18,
     "metadata": {},
     "output_type": "execute_result"
    },
    {
     "data": {
      "image/png": "[encoded data removed]",
      "text/plain": [
       "<Figure size 432x288 with 1 Axes>"
      ]
     },
     "metadata": {},
     "output_type": "display_data"
    }
   ],
   "source": [
    "# kills/deaths & deaths 散点图\r\n",
    "plt.scatter(train_df['win'], train_df['kills']-train_df['deaths'])\r\n",
    "plt.xlabel('win')\r\n",
    "plt.ylabel('kills/deaths')"
   ]
  },
  {
   "cell_type": "code",
   "execution_count": 9,
   "metadata": {
    "collapsed": false
   },
   "outputs": [
    {
     "data": {
      "text/plain": [
       "Text(0,0.5,'deaths')"
      ]
     },
     "execution_count": 9,
     "metadata": {},
     "output_type": "execute_result"
    },
    {
     "data": {
      "image/png": "[encoded data removed]",
      "text/plain": [
       "<Figure size 432x288 with 1 Axes>"
      ]
     },
     "metadata": {},
     "output_type": "display_data"
    }
   ],
   "source": [
    "# kills & deaths 散点图\n",
    "plt.scatter(train_df['kills'], train_df['deaths'])\n",
    "plt.xlabel('kills')\n",
    "plt.ylabel('deaths')"
   ]
  },
  {
   "cell_type": "code",
   "execution_count": 11,
   "metadata": {
    "collapsed": false
   },
   "outputs": [],
   "source": [
    "# 设计交叉特征\r\n",
    "#train_df['wards'] = train_df['wardsplaced']/train_df['wardskilled']\r\n",
    "#train_df['hurt'] = train_df['totdmgtochamp']/train_df['totdmgtaken']\r\n",
    "#train_df['head'] = train_df['kills']/train_df['deaths']"
   ]
  },
  {
   "cell_type": "code",
   "execution_count": 12,
   "metadata": {
    "collapsed": false
   },
   "outputs": [],
   "source": [
    "# 设计交叉特征\r\n",
    "#test_df['wards'] = test_df['wardsplaced']/test_df['wardskilled']\r\n",
    "#test_df['hurt'] = test_df['totdmgtochamp']/test_df['totdmgtaken']\r\n",
    "#test_df['head'] = test_df['kills']/test_df['deaths']"
   ]
  },
  {
   "cell_type": "code",
   "execution_count": 22,
   "metadata": {
    "collapsed": false
   },
   "outputs": [],
   "source": [
    "# 处理数据\n",
    "for col in train_df.columns[1:]:\n",
    "    train_df[col] /= train_df[col].max()\n",
    "    test_df[col] /= test_df[col].max()"
   ]
  },
  {
   "cell_type": "markdown",
   "metadata": {
    "collapsed": false
   },
   "source": [
    "## 搭建模型"
   ]
  },
  {
   "cell_type": "code",
   "execution_count": 23,
   "metadata": {
    "collapsed": false
   },
   "outputs": [],
   "source": [
    "class Classifier(paddle.nn.Layer):\n",
    "    # self代表类的实例自身\n",
    "    def __init__(self):\n",
    "        # 初始化父类中的一些参数\n",
    "        super(Classifier, self).__init__()\n",
    "        \n",
    "        # 在baseline原有模型的基础上增加线性变换层\n",
    "        self.fc1 = paddle.nn.Linear(in_features=22, out_features=40)\n",
    "        self.fc2 = paddle.nn.Linear(in_features=40, out_features=512)\n",
    "        self.fc3 = paddle.nn.Linear(in_features=512, out_features=256)\n",
    "        self.fc4 = paddle.nn.Linear(in_features=256, out_features=128)\n",
    "        self.fc12 = paddle.nn.Linear(in_features=128, out_features=512)\n",
    "        self.fc13 = paddle.nn.Linear(in_features=512, out_features=256)\n",
    "        self.fc14 = paddle.nn.Linear(in_features=256, out_features=128)\n",
    "        self.fc5 = paddle.nn.Linear(in_features=128, out_features=1)\n",
    "        self.relu = paddle.nn.ReLU()\n",
    "    \n",
    "    # 网络的前向计算\n",
    "    def forward(self, inputs):\n",
    "        x = self.relu(self.fc1(inputs))\n",
    "        x = self.fc2(x)\n",
    "        x = self.relu(self.fc3(x))\n",
    "        x = self.fc4(x)\n",
    "        x = self.fc12(x)\n",
    "        x = self.relu(self.fc13(x))\n",
    "        x = self.fc14(x)\n",
    "        x = self.fc5(x)\n",
    "        return x"
   ]
  },
  {
   "cell_type": "code",
   "execution_count": 24,
   "metadata": {
    "collapsed": false
   },
   "outputs": [
    {
     "name": "stderr",
     "output_type": "stream",
     "text": [
      "W0704 20:46:21.700857   243 device_context.cc:447] Please NOTE: device: 0, GPU Compute Capability: 7.0, Driver API Version: 11.2, Runtime API Version: 10.1\n",
      "W0704 20:46:21.704815   243 device_context.cc:465] device: 0, cuDNN Version: 7.6.\n"
     ]
    }
   ],
   "source": [
    "model = Classifier()\n",
    "model.train()\n",
    "# 设置学习率为0.001，更好控制后续的训练过程\n",
    "opt = paddle.optimizer.SGD(learning_rate=0.001, parameters=model.parameters())\n",
    "loss_fn = paddle.nn.BCEWithLogitsLoss()"
   ]
  },
  {
   "cell_type": "code",
   "execution_count": 17,
   "metadata": {
    "collapsed": false
   },
   "outputs": [
    {
     "name": "stdout",
     "output_type": "stream",
     "text": [
      "epoch: 99, iter: 8800, loss is: [0.36825138], acc is [0.8]\r"
     ]
    }
   ],
   "source": [
    "# 在baseline原有的参数上，将 epoch 增加至100，将 batch 减少至20，以确保训练过程更加全面而深入\n",
    "EPOCH_NUM = 100  # 设置外层循环次数\n",
    "BATCH_SIZE = 20  # 设置batch大小\n",
    "training_data = train_df.iloc[:, ].values.astype(np.float32)\n",
    "#val_data = train_df.iloc[-1000:, ].values.astype(np.float32)\n",
    "\n",
    "# 定义外层循环\n",
    "for epoch_id in range(EPOCH_NUM):\n",
    "    # 在每轮迭代开始之前，将训练数据的顺序随机的打乱\n",
    "    \n",
    "    np.random.shuffle(training_data)\n",
    "    \n",
    "    # 将训练数据进行拆分，每个batch包含10条数据\n",
    "    mini_batches = [training_data[k:k+BATCH_SIZE] for k in range(0, len(training_data), BATCH_SIZE)]\n",
    "    \n",
    "    # 定义内层循环\n",
    "    for iter_id, mini_batch in enumerate(mini_batches):\n",
    "        x = np.array(mini_batch[:, 1:]) # 获得当前批次训练数据\n",
    "        y = np.array(mini_batch[:, :1]) # 获得当前批次训练标签\n",
    "        \n",
    "        # 将numpy数据转为飞桨动态图tensor的格式\n",
    "        features = paddle.to_tensor(x)\n",
    "        y = paddle.to_tensor(y)\n",
    "        \n",
    "        # 前向计算\n",
    "        predicts = model(features)\n",
    "        \n",
    "        # 计算损失\n",
    "        loss = loss_fn(predicts, y, )\n",
    "        avg_loss = paddle.mean(loss)\n",
    "\n",
    "        if iter_id%200==0:\n",
    "            acc = (predicts > 0).astype(int).flatten() == y.flatten().astype(int)\n",
    "            acc = acc.astype(float).mean()\n",
    "\n",
    "            print(\"epoch: {}, iter: {}, loss is: {}, acc is {}\".format(epoch_id, iter_id, avg_loss.numpy(), acc.numpy()))\n",
    "\n",
    "        # 反向传播，计算每层参数的梯度值\n",
    "        avg_loss.backward()\n",
    "        # 更新参数，根据设置好的学习率迭代一步\n",
    "        opt.step()\n",
    "        # 清空梯度变量，以备下一轮计算\n",
    "        opt.clear_grad()"
   ]
  },
  {
   "cell_type": "code",
   "execution_count": 25,
   "metadata": {
    "collapsed": false
   },
   "outputs": [],
   "source": [
    "# 将测试集输入至训练完毕的模型中，得到预测结果\n",
    "model.eval()\n",
    "test_data = paddle.to_tensor(test_df.values.astype(np.float32))\n",
    "test_predict = model(test_data)\n",
    "test_predict = (test_predict > 0).astype(int).flatten()"
   ]
  },
  {
   "cell_type": "code",
   "execution_count": 26,
   "metadata": {
    "collapsed": false
   },
   "outputs": [
    {
     "name": "stdout",
     "output_type": "stream",
     "text": [
      "updating: submission.csv (deflated 93%)\r\n"
     ]
    }
   ],
   "source": [
    "# 将预测结果打印输出至 submission.csv 并打包压缩\n",
    "pd.DataFrame({'win':\n",
    "              test_predict.numpy()\n",
    "             }).to_csv('submission.csv', index=None)\n",
    "\n",
    "!zip submission.zip submission.csv"
   ]
  },
  {
   "cell_type": "markdown",
   "metadata": {
    "collapsed": false
   },
   "source": [
    "## 模型构建\n",
    "\n",
    "1. 模型整体建立在 baseline 的基础之上，基本流程大致相同，主要区别体现在对于原有的数据处理、参数设置以及模型搭建等部分的调整上\n",
    "2. 模型处理步骤：\n",
    "  * 引入相关库，包括 pandas、paddle、numpy 等\n",
    "  * 读取训练集、测试集\n",
    "  * 绘制数据集中各项数据之间的图像，例如 wardsplaced & win 箱形图、wardskills & win 箱形图、kills/deaths & deaths 散点图等等，作为后续处理的依据\n",
    "  * 删除包括 magicdmgtochamp、physdmgtochamp 在内的对于 win 标签影响较小的数据\n",
    "  * 搭建模型，在原有的基础上增设线性变换层\n",
    "  * 训练过程，在原有的基础上，减少学习率，增加训练轮数，减少批处理\n",
    "  * 预测过程，将测试集作为输入调用训练完毕的模型\n",
    "  * 将预测结果输出至 submission.csv 中，至此运行完毕"
   ]
  },
  {
   "cell_type": "markdown",
   "metadata": {
    "collapsed": false
   },
   "source": [
    "## 调优思路\n",
    "\n",
    "1. 模型整体建立在 baseline 的基础之上，通过对于原有的数据处理、参数设置以及模型搭建等部分的调整，使得测试集得分由基础的77分上升至84.1分\n",
    "2. 数据处理调优：\n",
    "* 通过绘制 wardsplaced & win 箱形图、wardskills & win 箱形图、kills/deaths & deaths 散点图等图像，分析数据的相关特征，在原有的基础上，将 magicdmgtochamp、physdmgtochamp 等七项对于 win 标签影响较小的数据删除，以扩大其他数据的权重\n",
    "3. 模型搭建调优：\n",
    "* 在原有的基础上，于模型搭建部分增设线性变换层，以使模型对于数据的处理更加充分\n",
    "4. 参数设置调优：\n",
    "* 在原有的基础上，设置 learning_rate = 0.001、EPOCH_NUM = 100、BATCH_SIZE = 20\n",
    "* 降低学习率以使训练过程更加易于控制，便于初学者观察过程、调整参数，同时，使训练过程也更加充分，对于数据的处理更为细致\n",
    "* 增加训练循环次数的原理与学习率类似，通过增加循环次数以使数据利用得更加充分，并且每次循环都输出相应的 loss、acc，便于后续调参\n",
    "* 减少批处理的数量亦是为了配合增加的训练循环次数，使数据利用得更加充分，对于测试集的预测更加精准"
   ]
  }
 ],
 "metadata": {
  "kernelspec": {
   "display_name": "Python 3",
   "language": "python",
   "name": "py35-paddle1.2.0"
  },
  "language_info": {
   "codemirror_mode": {
    "name": "ipython",
    "version": 3
   },
   "file_extension": ".py",
   "mimetype": "text/x-python",
   "name": "python",
   "nbconvert_exporter": "python",
   "pygments_lexer": "ipython3",
   "version": "3.7.4"
  }
 },
 "nbformat": 4,
 "nbformat_minor": 1
}
